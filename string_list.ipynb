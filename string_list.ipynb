{
 "cells": [
  {
   "cell_type": "markdown",
   "metadata": {},
   "source": [
    "    Letter Counter App."
   ]
  },
  {
   "cell_type": "code",
   "execution_count": 13,
   "metadata": {},
   "outputs": [
    {
     "name": "stdout",
     "output_type": "stream",
     "text": [
      "Welcome to the Letter Counter App\n",
      "Hello  GLORIA MELANY\n",
      "I will count the number of times that specific letter occurs in a message. \n",
      "gloria melany your message has 0 h in it.\n"
     ]
    }
   ],
   "source": [
    "print(\"Welcome to the Letter Counter App\")\n",
    "user=input(\"What is your name?: \")\n",
    "print(\"Hello \",user.upper())# usamos el metodo upper para comvertir una palabra en mayuscula.\n",
    "\n",
    "print(\"I will count the number of times that specific letter occurs in a message. \")\n",
    "message=input(\"Please enter a message: \")\n",
    "cont=0\n",
    "letter_count=input(\"Which letter would you like to count the ocurrences of: \")\n",
    "\n",
    "for i in message:\n",
    "    if i==letter_count:\n",
    "        cont+=1\n",
    "print(f\"{user} your message has {message.count(letter_count)} {letter_count} in it.\")\n",
    "#usamos el count para contar el numero de veces de una letra en un mensaje.\n",
    "\n",
    "\n",
    "\n"
   ]
  },
  {
   "cell_type": "markdown",
   "metadata": {},
   "source": [
    "Miles Per hour"
   ]
  },
  {
   "cell_type": "code",
   "execution_count": 21,
   "metadata": {},
   "outputs": [
    {
     "name": "stdout",
     "output_type": "stream",
     "text": [
      "Welcome to the Miles Per Hour Conversion App.\n",
      "miles per hour: 55.8\n",
      "Your speed in meters per second is: 24.96\n"
     ]
    }
   ],
   "source": [
    "print(\"Welcome to the Miles Per Hour Conversion App.\")\n",
    "kmh=float(input(\"What is your speed in miles per hour?: \"))\n",
    "mph=0.4474*kmh #este es el valor de mph\n",
    "print(\"miles per hour:\",kmh)\n",
    "print(f\"Your speed in meters per second is: {round(mph,2)}\")\n",
    "#usamos la funcion round para redondear la respuesta a 2 decimales.\n",
    "\n"
   ]
  },
  {
   "cell_type": "markdown",
   "metadata": {},
   "source": [
    "Temperature Conversion App."
   ]
  },
  {
   "cell_type": "code",
   "execution_count": 46,
   "metadata": {},
   "outputs": [
    {
     "name": "stdout",
     "output_type": "stream",
     "text": [
      "Welcome to the Temperature Conversion App.\n",
      "Degrees Fahrenheit: 212.52\n",
      "212.52 Degrees Fahrenheit son 100.2889 Degrees Celsius \n",
      "Degrees Kelvin:  373.4389\n"
     ]
    }
   ],
   "source": [
    "print(\"Welcome to the Temperature Conversion App.\")\n",
    "\n",
    "fahrenheit=float(input(\"What is the temperature in degrees Fahrenheit: \"))\n",
    "celsius=(fahrenheit -32) * 5.0/9.0#aplicamos la formula de conversion F a C\n",
    "kelvin=273.15 # el valor de K\n",
    "print(f\"Degrees Fahrenheit: {fahrenheit}\")\n",
    "print('{} Degrees Fahrenheit son {} Degrees Celsius '.format(fahrenheit,(round(celsius,4))))\n",
    "print(f\"Degrees Kelvin: \",str(round(celsius,4)+kelvin))\n",
    "#cada resultado tendra la reducion de 4 decimales con round\n",
    "\n"
   ]
  },
  {
   "cell_type": "markdown",
   "metadata": {},
   "source": [
    "Right Triangle Solver App"
   ]
  },
  {
   "cell_type": "code",
   "execution_count": 61,
   "metadata": {},
   "outputs": [
    {
     "name": "stdout",
     "output_type": "stream",
     "text": [
      "\tWelcome to the Right Triangle Solver App\n",
      "For a triangle with legs of 20.0 and 40.5 the hypotenuse is 45.169\n",
      "For a triangle with legs of 20.0 and 40.5 the area is 405.0\n"
     ]
    }
   ],
   "source": [
    "import math\n",
    "print(\"\\tWelcome to the Right Triangle Solver App\")\n",
    "\n",
    "cateto_A=float(input(\"What is the first leg og the triangle: \"))\n",
    "cateto_b=float(input(\"What is the second leg of the triangle: \"))\n",
    "\n",
    "hipotenusa=math.sqrt((cateto_A**2)+(cateto_b**2))#elevamos al 2 cada cateto para hallar la hipotenusa\n",
    "print(f\"For a triangle with legs of {cateto_A} and {cateto_b} the hypotenuse is {round(hipotenusa,3)}\")\n",
    "\n",
    "area=float(cateto_A)*float(cateto_b)/2.0#multiplicamos los lados y dividimos /2\n",
    "print(f\"For a triangle with legs of {cateto_A} and {cateto_b} the area is {area}\")"
   ]
  },
  {
   "cell_type": "markdown",
   "metadata": {},
   "source": [
    "Mutiplication/Exponent Table App"
   ]
  },
  {
   "cell_type": "code",
   "execution_count": 62,
   "metadata": {},
   "outputs": [
    {
     "name": "stdout",
     "output_type": "stream",
     "text": [
      "Welcome to the Multiplication/Exponent Table App\n",
      "\n",
      "\n",
      " Multiplication Table For 2.35\n",
      "\n",
      "\t 1 * 2.35 = 2.35\n",
      "\t 2 * 2.35 = 4.7\n",
      "\t 3 * 2.35 = 7.05\n",
      "\t 4 * 2.35 = 9.4\n",
      "\t 5 * 2.35 = 11.75\n",
      "\t 6 * 2.35 = 14.1\n",
      "\t 7 * 2.35 = 16.45\n",
      "\t 8 * 2.35 = 18.8\n",
      "\t 9 * 2.35 = 21.15\n",
      "\n",
      "\n",
      " Exponent Table For 2.35\n",
      "\n",
      "\t 2.35**1 = 2.35\n",
      "\t 2.35**2 = 5.5225\n",
      "\t 2.35**3 = 12.9779\n",
      "\t 2.35**4 = 30.498\n",
      "\t 2.35**5 = 71.6703\n",
      "\t 2.35**6 = 168.4252\n",
      "\t 2.35**7 = 395.7993\n",
      "\t 2.35**8 = 930.1284\n",
      "\t 2.35**9 = 2185.8017\n",
      "\n",
      " 2.35, Math is cool!\n",
      "\t2.35, math is cool!\n",
      "\t\t2.35, Math Is Cool!\n",
      "\t\t\t2.35, MATH IS COOL!\n"
     ]
    }
   ],
   "source": [
    "print('Welcome to the Multiplication/Exponent Table App')\n",
    "name = input(\"\\n\\nWhat is your name: \")\n",
    "num = float(input(\"What number would you like to work with: \"))\n",
    "message = name.title() + \", Math is cool!\"\n",
    "#use el metodo title para tener la primera letra en Mayuscula como un titulo\n",
    "numbers = (1,2,3,4,5,6,7,8,9)\n",
    "#puse una tupla con los numeros importantes\n",
    "\n",
    "print(f\"\\n\\n Multiplication Table For {num}\\n\")\n",
    "for n in numbers:\n",
    "  print(f'\\t {n} * {num} = {round(n * num,4)}')\n",
    "  \n",
    "print(f\"\\n\\n Exponent Table For {num}\\n\")\n",
    "for n in numbers:\n",
    "  print(f'\\t {num}**{n} = {round(num**n,4)}')\n",
    "\n",
    "print('\\n',message)\n",
    "print(f'\\t{str.lower(message)}')\n",
    "print(f'\\t\\t{str.title(message)}')\n",
    "print(f'\\t\\t\\t{str.upper(message)}')"
   ]
  },
  {
   "cell_type": "markdown",
   "metadata": {},
   "source": [
    "LISTAS "
   ]
  },
  {
   "cell_type": "markdown",
   "metadata": {},
   "source": [
    "Grade Sorter App"
   ]
  },
  {
   "cell_type": "code",
   "execution_count": 68,
   "metadata": {},
   "outputs": [
    {
     "name": "stdout",
     "output_type": "stream",
     "text": [
      "\tWelcome to the Grade Sorter App\n",
      "\n",
      "\n",
      "Your grades are:  [82, 95, 100, 61]\n",
      "\n",
      "Your grades from highest to lowest are: [100, 95, 82, 61]\n",
      "\n",
      "The lowest two grades will now be dropped.\n",
      "Removed grade: 61\n",
      "Removed grade: 82\n",
      "\n",
      "Your remaining grades are: [100, 95]\n",
      "Nice work! Your highest grade is a 100\n"
     ]
    }
   ],
   "source": [
    "print(\"\\tWelcome to the Grade Sorter App\\n\")\n",
    "grades=[ ]\n",
    "\n",
    "grades.append(int(input(\"What is your first grade (0-100): \")))\n",
    "grades.append(int(input(\"What is your second grade (0-100): \")))\n",
    "grades.append(int(input(\"What is your third grade (0-100): \")))\n",
    "grades.append(int(input(\"What is your fourth grade (0-100): \")))\n",
    "\n",
    "print(\"\\nYour grades are: \",grades)\n",
    "\n",
    "grades= sorted(grades)\n",
    "grades = grades[ : :-1]\n",
    "print(f\"\\nYour grades from highest to lowest are: {grades}\")\n",
    "\n",
    "print(f\"\\nThe lowest two grades will now be dropped.\")\n",
    "print(f\"Removed grade: {grades.pop(3)}\")\n",
    "print(f\"Removed grade: {grades.pop(2)}\")\n",
    "#use el metodo pop para eliminar \n",
    "\n",
    "print(f\"\\nYour remaining grades are: {grades}\")\n",
    "print(f\"Nice work! Your highest grade is a {max(grades)}\")"
   ]
  },
  {
   "cell_type": "markdown",
   "metadata": {},
   "source": [
    "Different Types of Lists Program"
   ]
  },
  {
   "cell_type": "code",
   "execution_count": 69,
   "metadata": {},
   "outputs": [
    {
     "name": "stdout",
     "output_type": "stream",
     "text": [
      "\t\tSummary Table\n",
      "\n",
      "The variable num_strings is a <class 'list'>\n",
      "It contains the elements: ['15', '100', '55', '42']\n",
      "The elements 15 is a <class 'str'>\n",
      "\n",
      "The variable num_ints is a <class 'list'>\n",
      "It contains the elements: [15, 100, 55, 42]\n",
      "The elements 15 is a <class 'int'>\n",
      "\n",
      "The variable num_floats is a <class 'list'>\n",
      "It contains the elements: [12.4, 13.65, 20.8, 500.4]\n",
      "The elements 12.4 is a <class 'float'>\n",
      "\n",
      "The variable num_lists is a <class 'list'>\n",
      "It contains the elements: [[1, 2, 3], [4, 5, 6], [7, 8, 9]]\n",
      "The elements [1, 2, 3] is a <class 'list'>\n",
      "\n",
      "Now sorting num_strings and num_ints...\n",
      "Sorted num_strings: ['100', '15', '42', '55']\n",
      "Sorted num_ints: [15, 42, 55, 100]\n",
      "\n",
      "Strings are sorted alphabetically while integers sorted numerically!\n"
     ]
    }
   ],
   "source": [
    "num_strings=['15','100','55','42']\n",
    "num_ints=[15,100,55,42]\n",
    "num_floats=[12.4,13.65,20.8,500.4]\n",
    "num_lists=[[1,2,3],[4,5,6],[7,8,9]]\n",
    "\n",
    "list_listNames=['num_strings','num_ints','num_floats','num_lists']\n",
    "current = 0\n",
    "'''we use current in orden to be able to have a counter that tell us how many times the for has acted and \n",
    "use this integer to instruct the print in wich name of the name list should it print each time.'''\n",
    "list_all=[num_strings,num_ints,num_floats,num_lists]\n",
    "\n",
    "print(\"\\t\\tSummary Table\")\n",
    "#here we used a for because we basically didn't feel like copy pasting all this trice.\n",
    "for s in list_all:\n",
    "  print(f\"\\nThe variable {list_listNames[current]} is a {type(s)}\")\n",
    "  print(f\"It contains the elements: {s}\")\n",
    "  print(f\"The elements {s[0]} is a {type(s[0])}\")\n",
    "  current= current + 1\n",
    "\n",
    "num_strings=sorted(num_strings)\n",
    "num_ints=sorted(num_ints)\n",
    "print(\"\\nNow sorting num_strings and num_ints...\")\n",
    "print(f\"Sorted num_strings: {num_strings}\")\n",
    "print(f\"Sorted num_ints: {num_ints}\")\n",
    "print(\"\\nStrings are sorted alphabetically while integers sorted numerically!\")"
   ]
  },
  {
   "cell_type": "markdown",
   "metadata": {},
   "source": [
    "Grocety List App"
   ]
  },
  {
   "cell_type": "code",
   "execution_count": 78,
   "metadata": {},
   "outputs": [
    {
     "name": "stdout",
     "output_type": "stream",
     "text": [
      "Welcome to the Grocery List App.\n",
      "Current Date and Time: 11/23 23:24\n",
      "You currently have Meat and Cheese in your list.\n",
      "\n",
      "Here is your grocery list: \n",
      "['Cheese', 'Meat', 'Banana', 'Manzana', 'Sopa']\n",
      "Here is your grocery list sorted: \n",
      "['Banana', 'Cheese', 'Manzana', 'Meat', 'Sopa']\n",
      "\n",
      "Simulating grocery shopping...\n",
      "\n",
      "Current grocery list: 5 items \n",
      "['Banana', 'Cheese', 'Manzana', 'Meat', 'Sopa']\n",
      "Removing Sopa from list...\n",
      "\n",
      "Current grocery list: 4 items \n",
      "['Banana', 'Cheese', 'Manzana', 'Meat']\n",
      "Removing Manzana from list...\n",
      "\n",
      "Current grocery list: 3 items \n",
      "['Banana', 'Cheese', 'Meat']\n",
      "Removing Meat from list...\n",
      "\n",
      "Current grocery list: 2 items \n",
      "\n",
      "['Banana', 'Cheese']\n",
      "\n",
      "Sorry, the store is out of Cheese.\n",
      "\n",
      "Here is what remains on your grocery list: \n",
      "['Banana', 'Banana']\n"
     ]
    }
   ],
   "source": [
    "from datetime import datetime\n",
    "\n",
    "groceryList = ['Cheese', 'Meat']\n",
    "\n",
    "time = datetime.now()\n",
    "month = str(time.month)\n",
    "day = str(time.day)\n",
    "hour = str(time.hour)\n",
    "minute = str(time.minute)\n",
    "\n",
    "print('Welcome to the Grocery List App.')\n",
    "print(f'Current Date and Time: {month}/{day} {hour}:{minute}')\n",
    "print('You currently have Meat and Cheese in your list.')\n",
    "\n",
    "groceryList.append(str.title(input('\\nType of food to add to the grocery list: ')))\n",
    "groceryList.append(str.title(input('Type of food to add to the grocery list: ')))\n",
    "groceryList.append(str.title(input('Type of food to add to the grocery list: ')))\n",
    "\n",
    "print(f'\\nHere is your grocery list: \\n{groceryList}')\n",
    "groceryList = sorted(groceryList)\n",
    "print(f'Here is your grocery list sorted: \\n{groceryList}')\n",
    "print('\\nSimulating grocery shopping...')\n",
    "\n",
    "print(f'\\nCurrent grocery list: {len(groceryList)} items \\n{groceryList}')\n",
    "purchased = str.title(input('What food did you just buy: '))\n",
    "groceryList.remove(purchased)\n",
    "print(f'Removing {purchased} from list...')\n",
    "\n",
    "print(f'\\nCurrent grocery list: {len(groceryList)} items \\n{groceryList}')\n",
    "purchased = str.title(input('What food did you just buy: '))\n",
    "groceryList.remove(purchased)\n",
    "print(f'Removing {purchased} from list...')\n",
    "'''remove alows us to remove by calling a string pop could have printed what i was \n",
    "removing simultaneously but it only reads the spot of the list in integers'''\n",
    "\n",
    "print(f'\\nCurrent grocery list: {len(groceryList)} items \\n{groceryList}')\n",
    "purchased = str.title(input('What food did you just buy: '))\n",
    "groceryList.remove(purchased)\n",
    "print(f'Removing {purchased} from list...')\n",
    "\n",
    "print(f'\\nCurrent grocery list: {len(groceryList)} items \\n\\n{groceryList}')\n",
    "print(f'\\nSorry, the store is out of {groceryList[1]}.')\n",
    "del groceryList[1]\n",
    "groceryList.insert(0, str.title(input('What food would you like instead: ')))\n",
    "\n",
    "print(f'\\nHere is what remains on your grocery list: \\n{groceryList}')\n",
    "\n",
    "\n"
   ]
  },
  {
   "cell_type": "markdown",
   "metadata": {},
   "source": [
    "Basketball Roster Program"
   ]
  },
  {
   "cell_type": "code",
   "execution_count": 70,
   "metadata": {},
   "outputs": [
    {
     "name": "stdout",
     "output_type": "stream",
     "text": [
      "welcome to the Basketball Roster Program\n",
      "<class 'list'>\n",
      "\n",
      "\tYour starting 5 for the upcoming basketball season\n",
      "\t\tPoint Guard:\t\tMike Eremo\n",
      "\t\tShooting Guard:\t\tKlay Thompson\n",
      "\t\tSmall Forward:\t\tLebron James\n",
      "\t\tPower Forward:\t\tAnthony Davis\n",
      "\t\tCenter:\t\t\tKevin Getman\n",
      "\n",
      "Oh no, Lebron James is injured.\n",
      "Your roaster only has 4 players.\n",
      "\n",
      "\tYour starting 5 for the upcoming basketball season\n",
      "\t\tPoint Guard:\t\tMike Eremo\n",
      "\t\tShooting Guard:\t\tKlay Thompson\n",
      "\t\tSmall Forward:\t\tLucas Eramo\n",
      "\t\tPower Forward:\t\tAnthony Davis\n",
      "\t\tCenter:\t\t\tKevin Getman\n",
      "\n",
      "Good Luck Lucas Eramo you will do great!\n",
      "Your roaster now has 5 players.\n"
     ]
    }
   ],
   "source": [
    "print('welcome to the Basketball Roster Program')\n",
    "roaster=[]\n",
    "#here we create an empty list to fill it with the players names, python will already recognize the type of the list.\n",
    "\n",
    "print(type(roaster))\n",
    "roaster.insert(0, str.title(input(\"\\nWho is your point guard: \")))\n",
    "roaster.insert(1, str.title(input(\"Who is your point shooting guard: \")))\n",
    "roaster.insert(2, str.title(input(\"Who is your point small forward: \")))\n",
    "roaster.insert(3, str.title(input(\"\\nWho is your point power forward: \")))\n",
    "roaster.insert(4, str.title(input(\"Who is your point center: \")))\n",
    "\n",
    "print('\\n\\tYour starting 5 for the upcoming basketball season')\n",
    "print(f'\\t\\tPoint Guard:\\t\\t{roaster[0]}')\n",
    "print(f'\\t\\tShooting Guard:\\t\\t{roaster[1]}')\n",
    "print(f'\\t\\tSmall Forward:\\t\\t{roaster[2]}')\n",
    "print(f'\\t\\tPower Forward:\\t\\t{roaster[3]}')\n",
    "print(f'\\t\\tCenter:\\t\\t\\t{roaster[4]}')\n",
    "\n",
    "injured_player = roaster[2]\n",
    "del roaster[2]\n",
    "print(f'\\nOh no, {injured_player} is injured.')\n",
    "print(f'Your roaster only has {len(roaster)} players.')\n",
    "\n",
    "added_player = str.title(input(f\"Who will take {injured_player}'s spot: \"))\n",
    "roaster.insert(2, added_player)\n",
    "#we save the names of the injured player and the new player to be able to use them even if they are not on the list.\n",
    "\n",
    "print('\\n\\tYour starting 5 for the upcoming basketball season')\n",
    "print(f'\\t\\tPoint Guard:\\t\\t{roaster[0]}')\n",
    "print(f'\\t\\tShooting Guard:\\t\\t{roaster[1]}')\n",
    "print(f'\\t\\tSmall Forward:\\t\\t{roaster[2]}')\n",
    "print(f'\\t\\tPower Forward:\\t\\t{roaster[3]}')\n",
    "print(f'\\t\\tCenter:\\t\\t\\t{roaster[4]}')\n",
    "\n",
    "print(f'\\nGood Luck {added_player} you will do great!')\n",
    "print(f'Your roaster now has {len(roaster)} players.')"
   ]
  }
 ],
 "metadata": {
  "interpreter": {
   "hash": "916dbcbb3f70747c44a77c7bcd40155683ae19c65e1c03b4aa3499c5328201f1"
  },
  "kernelspec": {
   "display_name": "Python 3.8.10 64-bit",
   "language": "python",
   "name": "python3"
  },
  "language_info": {
   "codemirror_mode": {
    "name": "ipython",
    "version": 3
   },
   "file_extension": ".py",
   "mimetype": "text/x-python",
   "name": "python",
   "nbconvert_exporter": "python",
   "pygments_lexer": "ipython3",
   "version": "3.8.10"
  },
  "orig_nbformat": 4
 },
 "nbformat": 4,
 "nbformat_minor": 2
}
